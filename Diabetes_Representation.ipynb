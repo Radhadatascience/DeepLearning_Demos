{
 "cells": [
  {
   "cell_type": "code",
   "execution_count": null,
   "metadata": {},
   "outputs": [],
   "source": [
    "#https://becominghuman.ai/diabetes-prediction-with-deep-learning-studio-a-different-approach-towards-deep-learning-d5cd0df5af01\n",
    "#https://www.youtube.com/watch?v=nYp_LiZD_ok&list=PL1p2FyfV5dJ9ZPBPd3VNPKUZKuYV7CWtV\n",
    "#https://www.youtube.com/watch?v=pr7OkkIy_wQ\n",
    "#https://deepcognition.ai/products/desktop/(installation)\n",
    "#https://deepcognition.ai/training-courses/"
   ]
  }
 ],
 "metadata": {
  "kernelspec": {
   "display_name": "Python 3",
   "language": "python",
   "name": "python3"
  },
  "language_info": {
   "codemirror_mode": {
    "name": "ipython",
    "version": 3
   },
   "file_extension": ".py",
   "mimetype": "text/x-python",
   "name": "python",
   "nbconvert_exporter": "python",
   "pygments_lexer": "ipython3",
   "version": "3.7.3"
  }
 },
 "nbformat": 4,
 "nbformat_minor": 2
}
