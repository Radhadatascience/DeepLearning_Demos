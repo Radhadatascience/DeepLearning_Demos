{
 "cells": [
  {
   "cell_type": "code",
   "execution_count": 1,
   "metadata": {},
   "outputs": [
    {
     "name": "stderr",
     "output_type": "stream",
     "text": [
      "Using TensorFlow backend.\n"
     ]
    }
   ],
   "source": [
    "#https://www.pytorials.com/mnist-handwritten-digits-classification-using-keras/\n",
    "from __future__ import print_function\n",
    "import keras\n",
    "from keras.datasets import mnist\n",
    "from keras.models import Sequential\n",
    "from keras.layers import Dense, Dropout, Flatten\n",
    "from keras.layers import Conv2D, MaxPooling2D\n",
    "from keras import backend as K"
   ]
  },
  {
   "cell_type": "code",
   "execution_count": 2,
   "metadata": {},
   "outputs": [],
   "source": [
    "batch_size = 128\n",
    "num_classes = 10\n",
    "epochs = 12\n",
    "\n",
    "# input image dimensions\n",
    "img_rows, img_cols = 28, 28\n",
    "\n",
    "# the data, split between train and test sets\n",
    "(x_train, y_train), (x_test, y_test) = mnist.load_data()"
   ]
  },
  {
   "cell_type": "code",
   "execution_count": 3,
   "metadata": {},
   "outputs": [],
   "source": [
    "import requests\n",
    "requests.packages.urllib3.disable_warnings()\n",
    "import ssl\n",
    "\n",
    "try:\n",
    "   _create_unverified_https_context = ssl._create_unverified_context\n",
    "except AttributeError:\n",
    "   # Legacy Python that doesn't verify HTTPS certificates by default\n",
    "   pass\n",
    "else:\n",
    "   # Handle target environment that doesn't support HTTPS verification\n",
    "   ssl._create_default_https_context = _create_unverified_https_context"
   ]
  },
  {
   "cell_type": "code",
   "execution_count": 4,
   "metadata": {},
   "outputs": [
    {
     "name": "stdout",
     "output_type": "stream",
     "text": [
      "x_train shape: (60000, 28, 28, 1)\n",
      "60000 train samples\n",
      "10000 test samples\n"
     ]
    }
   ],
   "source": [
    "if K.image_data_format() == 'channels_first':\n",
    "    x_train = x_train.reshape(x_train.shape[0], 1, img_rows, img_cols)\n",
    "    x_test = x_test.reshape(x_test.shape[0], 1, img_rows, img_cols)\n",
    "    input_shape = (1, img_rows, img_cols)\n",
    "else:\n",
    "    x_train = x_train.reshape(x_train.shape[0], img_rows, img_cols, 1)\n",
    "    x_test = x_test.reshape(x_test.shape[0], img_rows, img_cols, 1)\n",
    "    input_shape = (img_rows, img_cols, 1)\n",
    "\n",
    "x_train = x_train.astype('float32')\n",
    "x_test = x_test.astype('float32')\n",
    "x_train /= 255\n",
    "x_test /= 255\n",
    "print('x_train shape:', x_train.shape)\n",
    "print(x_train.shape[0], 'train samples')\n",
    "print(x_test.shape[0], 'test samples')"
   ]
  },
  {
   "cell_type": "code",
   "execution_count": 5,
   "metadata": {},
   "outputs": [],
   "source": [
    "# convert class vectors to binary class matrices\n",
    "y_train = keras.utils.to_categorical(y_train, num_classes)\n",
    "y_test = keras.utils.to_categorical(y_test, num_classes)"
   ]
  },
  {
   "cell_type": "code",
   "execution_count": 6,
   "metadata": {},
   "outputs": [
    {
     "name": "stdout",
     "output_type": "stream",
     "text": [
      "WARNING:tensorflow:From C:\\Users\\Lenovo\\Anaconda3\\lib\\site-packages\\keras\\backend\\tensorflow_backend.py:4070: The name tf.nn.max_pool is deprecated. Please use tf.nn.max_pool2d instead.\n",
      "\n",
      "WARNING:tensorflow:From C:\\Users\\Lenovo\\Anaconda3\\lib\\site-packages\\keras\\backend\\tensorflow_backend.py:422: The name tf.global_variables is deprecated. Please use tf.compat.v1.global_variables instead.\n",
      "\n",
      "Train on 60000 samples, validate on 10000 samples\n",
      "Epoch 1/12\n",
      "60000/60000 [==============================] - 440s 7ms/step - loss: 0.2526 - accuracy: 0.9218 - val_loss: 0.0596 - val_accuracy: 0.9799\n",
      "Epoch 2/12\n",
      "60000/60000 [==============================] - 455s 8ms/step - loss: 0.0873 - accuracy: 0.9739 - val_loss: 0.0409 - val_accuracy: 0.9862\n",
      "Epoch 3/12\n",
      "60000/60000 [==============================] - 461s 8ms/step - loss: 0.0661 - accuracy: 0.9802 - val_loss: 0.0330 - val_accuracy: 0.9886\n",
      "Epoch 4/12\n",
      "60000/60000 [==============================] - 421s 7ms/step - loss: 0.0548 - accuracy: 0.9835 - val_loss: 0.0312 - val_accuracy: 0.9888\n",
      "Epoch 5/12\n",
      "60000/60000 [==============================] - 425s 7ms/step - loss: 0.0453 - accuracy: 0.9866 - val_loss: 0.0329 - val_accuracy: 0.9888\n",
      "Epoch 6/12\n",
      "60000/60000 [==============================] - 416s 7ms/step - loss: 0.0415 - accuracy: 0.9878 - val_loss: 0.0300 - val_accuracy: 0.9903\n",
      "Epoch 7/12\n",
      "60000/60000 [==============================] - 411s 7ms/step - loss: 0.0383 - accuracy: 0.9880 - val_loss: 0.0264 - val_accuracy: 0.9910\n",
      "Epoch 8/12\n",
      "60000/60000 [==============================] - 348s 6ms/step - loss: 0.0330 - accuracy: 0.9898 - val_loss: 0.0269 - val_accuracy: 0.9911\n",
      "Epoch 9/12\n",
      "60000/60000 [==============================] - 258s 4ms/step - loss: 0.0323 - accuracy: 0.9901 - val_loss: 0.0257 - val_accuracy: 0.9912\n",
      "Epoch 10/12\n",
      "60000/60000 [==============================] - 250s 4ms/step - loss: 0.0289 - accuracy: 0.9910 - val_loss: 0.0279 - val_accuracy: 0.9912\n",
      "Epoch 11/12\n",
      "60000/60000 [==============================] - 226s 4ms/step - loss: 0.0271 - accuracy: 0.9915 - val_loss: 0.0274 - val_accuracy: 0.9904\n",
      "Epoch 12/12\n",
      "60000/60000 [==============================] - 213s 4ms/step - loss: 0.0260 - accuracy: 0.9920 - val_loss: 0.0268 - val_accuracy: 0.9919\n"
     ]
    },
    {
     "data": {
      "text/plain": [
       "<keras.callbacks.callbacks.History at 0x226dc74be80>"
      ]
     },
     "execution_count": 6,
     "metadata": {},
     "output_type": "execute_result"
    }
   ],
   "source": [
    "model = Sequential()\n",
    "model.add(Conv2D(32, kernel_size=(3, 3),\n",
    "                 activation='relu',\n",
    "                 input_shape=input_shape))\n",
    "model.add(Conv2D(64, (3, 3), activation='relu'))\n",
    "model.add(MaxPooling2D(pool_size=(2, 2)))\n",
    "model.add(Dropout(0.25))\n",
    "model.add(Flatten())\n",
    "model.add(Dense(128, activation='relu'))\n",
    "model.add(Dropout(0.5))\n",
    "model.add(Dense(num_classes, activation='softmax'))\n",
    "\n",
    "model.compile(loss=keras.losses.categorical_crossentropy,\n",
    "              optimizer=keras.optimizers.Adadelta(),\n",
    "              metrics=['accuracy'])\n",
    "\n",
    "model.fit(x_train, y_train,\n",
    "          batch_size=batch_size,\n",
    "          epochs=epochs,\n",
    "          verbose=1,\n",
    "          validation_data=(x_test, y_test))"
   ]
  },
  {
   "cell_type": "code",
   "execution_count": 7,
   "metadata": {},
   "outputs": [
    {
     "name": "stdout",
     "output_type": "stream",
     "text": [
      "Test loss: 0.026753899199590522\n",
      "Test accuracy: 0.9919000267982483\n"
     ]
    }
   ],
   "source": [
    "score = model.evaluate(x_test, y_test, verbose=0)\n",
    "print('Test loss:', score[0])\n",
    "print('Test accuracy:', score[1])"
   ]
  },
  {
   "cell_type": "code",
   "execution_count": null,
   "metadata": {},
   "outputs": [],
   "source": []
  }
 ],
 "metadata": {
  "kernelspec": {
   "display_name": "Python 3",
   "language": "python",
   "name": "python3"
  },
  "language_info": {
   "codemirror_mode": {
    "name": "ipython",
    "version": 3
   },
   "file_extension": ".py",
   "mimetype": "text/x-python",
   "name": "python",
   "nbconvert_exporter": "python",
   "pygments_lexer": "ipython3",
   "version": "3.7.3"
  }
 },
 "nbformat": 4,
 "nbformat_minor": 2
}
